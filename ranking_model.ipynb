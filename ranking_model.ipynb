{
 "cells": [
  {
   "cell_type": "code",
   "execution_count": 1,
   "outputs": [],
   "source": [
    "import pandas as pd\n",
    "import numpy as np\n",
    "from sklearn.model_selection import GroupShuffleSplit\n",
    "from catboost import CatBoostRanker, Pool\n",
    "from copy import deepcopy\n",
    "\n",
    "df = pd.read_csv('intern_task.csv')"
   ],
   "metadata": {
    "collapsed": false,
    "ExecuteTime": {
     "end_time": "2024-04-30T20:43:56.948606Z",
     "start_time": "2024-04-30T20:43:53.636278Z"
    }
   },
   "id": "3d2bc3eecae2bbb5"
  },
  {
   "cell_type": "markdown",
   "source": [
    "Разделим датасет на train и test"
   ],
   "metadata": {
    "collapsed": false
   },
   "id": "68d57fc40690385c"
  },
  {
   "cell_type": "code",
   "execution_count": 2,
   "outputs": [],
   "source": [
    "gss = GroupShuffleSplit(test_size=.20, n_splits=1, random_state=42).split(df, groups=df['query_id'])\n",
    "\n",
    "X_train_inds, X_test_inds = next(gss)\n",
    "train_data= df.iloc[X_train_inds]\n",
    "test_data= df.iloc[X_test_inds]\n",
    "X_train = train_data.drop(['rank', 'query_id'], axis=1).values\n",
    "y_train = train_data['rank'].values\n",
    "queries_train = train_data['query_id'].values\n",
    "X_test = test_data.drop(['rank', 'query_id'], axis=1).values\n",
    "y_test = test_data['rank'].values\n",
    "queries_test = test_data['query_id'].values"
   ],
   "metadata": {
    "collapsed": false,
    "ExecuteTime": {
     "end_time": "2024-04-30T20:44:00.504414Z",
     "start_time": "2024-04-30T20:44:00.208106Z"
    }
   },
   "id": "5714945e8bef7dee"
  },
  {
   "cell_type": "markdown",
   "source": [
    "Для задачи ранжирования используем catboost: \n",
    "1) приведем таргеты к [0,1]\n",
    "2) инициализируем структуру CatBoost pool\n",
    "3) зададим параметры модели\n",
    "4) имплементируем fitting function"
   ],
   "metadata": {
    "collapsed": false
   },
   "id": "9ac24ae32ecf598"
  },
  {
   "cell_type": "code",
   "execution_count": 5,
   "outputs": [],
   "source": [
    "max_relevance = np.max(y_train)\n",
    "y_train = y_train / max_relevance\n",
    "y_test = y_test / max_relevance\n",
    "\n",
    "train = Pool(\n",
    "    data=X_train,\n",
    "    label=y_train,\n",
    "    group_id=queries_train\n",
    ")\n",
    "\n",
    "test = Pool(\n",
    "    data=X_test,\n",
    "    label=y_test,\n",
    "    group_id=queries_test\n",
    ")\n",
    "\n",
    "params = {\n",
    "    'iterations': 3000,\n",
    "    'custom_metric': ['NDCG:top=5', 'PFound:top=5', 'AverageGain:top=5'],\n",
    "    'verbose': False,\n",
    "    'random_seed': 0,\n",
    "    'thread_count': -1,\n",
    "}\n",
    "\n",
    "def fit_model(loss_function, additional_params=None, train_pool=train, test_pool=test):\n",
    "    parameters = deepcopy(params)\n",
    "    parameters['loss_function'] = loss_function\n",
    "    parameters['train_dir'] = loss_function\n",
    "\n",
    "    if additional_params is not None:\n",
    "        parameters.update(additional_params)\n",
    "\n",
    "    model = CatBoostRanker(**parameters)\n",
    "    model.fit(train_pool, eval_set=test_pool, plot=True)\n",
    "\n",
    "    return model"
   ],
   "metadata": {
    "collapsed": false,
    "ExecuteTime": {
     "end_time": "2024-04-30T20:46:41.654527Z",
     "start_time": "2024-04-30T20:46:41.619850Z"
    }
   },
   "id": "93e2c3a97b726ad5"
  },
  {
   "cell_type": "markdown",
   "source": [
    "Обучение модели и полученные метрики"
   ],
   "metadata": {
    "collapsed": false
   },
   "id": "40b3075081e104a8"
  },
  {
   "cell_type": "code",
   "execution_count": 6,
   "outputs": [
    {
     "data": {
      "text/plain": "MetricVisualizer(layout=Layout(align_self='stretch', height='500px'))",
      "application/vnd.jupyter.widget-view+json": {
       "version_major": 2,
       "version_minor": 0,
       "model_id": "9cbd2a7d79f04757858179f9c041370a"
      }
     },
     "metadata": {},
     "output_type": "display_data"
    },
    {
     "data": {
      "text/plain": "{'PFound:top=5': 0.6975775578613285,\n 'NDCG:top=5;type=Base': 0.5790497505705205,\n 'QueryRMSE': 0.17765729379166634,\n 'AverageGain:top=5': 0.3385416666666665}"
     },
     "execution_count": 6,
     "metadata": {},
     "output_type": "execute_result"
    }
   ],
   "source": [
    "model = fit_model('QueryRMSE', params, train, test)\n",
    "model.best_score_['validation']"
   ],
   "metadata": {
    "collapsed": false,
    "ExecuteTime": {
     "end_time": "2024-04-30T20:48:06.565995Z",
     "start_time": "2024-04-30T20:46:43.937343Z"
    }
   },
   "id": "2f53ee009f3ffb16"
  }
 ],
 "metadata": {
  "kernelspec": {
   "display_name": "Python 3",
   "language": "python",
   "name": "python3"
  },
  "language_info": {
   "codemirror_mode": {
    "name": "ipython",
    "version": 2
   },
   "file_extension": ".py",
   "mimetype": "text/x-python",
   "name": "python",
   "nbconvert_exporter": "python",
   "pygments_lexer": "ipython2",
   "version": "2.7.6"
  }
 },
 "nbformat": 4,
 "nbformat_minor": 5
}
